{
 "cells": [
  {
   "cell_type": "code",
   "execution_count": 1,
   "id": "9cf64415",
   "metadata": {
    "_cell_guid": "b1076dfc-b9ad-4769-8c92-a6c4dae69d19",
    "_uuid": "8f2839f25d086af736a60e9eeb907d3b93b6e0e5",
    "execution": {
     "iopub.execute_input": "2024-06-01T03:22:04.945910Z",
     "iopub.status.busy": "2024-06-01T03:22:04.945061Z",
     "iopub.status.idle": "2024-06-01T03:22:05.866482Z",
     "shell.execute_reply": "2024-06-01T03:22:05.865197Z"
    },
    "papermill": {
     "duration": 0.935898,
     "end_time": "2024-06-01T03:22:05.869388",
     "exception": false,
     "start_time": "2024-06-01T03:22:04.933490",
     "status": "completed"
    },
    "tags": []
   },
   "outputs": [
    {
     "name": "stdout",
     "output_type": "stream",
     "text": [
      "/kaggle/input/sackx-used-cars/sample_submission.csv\n",
      "/kaggle/input/sackx-used-cars/train.csv\n",
      "/kaggle/input/sackx-used-cars/test.csv\n"
     ]
    }
   ],
   "source": [
    "# This Python 3 environment comes with many helpful analytics libraries installed\n",
    "# It is defined by the kaggle/python Docker image: https://github.com/kaggle/docker-python\n",
    "# For example, here's several helpful packages to load\n",
    "\n",
    "import numpy as np # linear algebra\n",
    "import pandas as pd # data processing, CSV file I/O (e.g. pd.read_csv)\n",
    "\n",
    "# Input data files are available in the read-only \"../input/\" directory\n",
    "# For example, running this (by clicking run or pressing Shift+Enter) will list all files under the input directory\n",
    "\n",
    "import os\n",
    "for dirname, _, filenames in os.walk('/kaggle/input'):\n",
    "    for filename in filenames:\n",
    "        print(os.path.join(dirname, filename))\n",
    "\n",
    "# You can write up to 20GB to the current directory (/kaggle/working/) that gets preserved as output when you create a version using \"Save & Run All\" \n",
    "# You can also write temporary files to /kaggle/temp/, but they won't be saved outside of the current session"
   ]
  },
  {
   "cell_type": "code",
   "execution_count": 2,
   "id": "f4111239",
   "metadata": {
    "execution": {
     "iopub.execute_input": "2024-06-01T03:22:05.889698Z",
     "iopub.status.busy": "2024-06-01T03:22:05.889190Z",
     "iopub.status.idle": "2024-06-01T03:22:06.352045Z",
     "shell.execute_reply": "2024-06-01T03:22:06.351023Z"
    },
    "papermill": {
     "duration": 0.476143,
     "end_time": "2024-06-01T03:22:06.354783",
     "exception": false,
     "start_time": "2024-06-01T03:22:05.878640",
     "status": "completed"
    },
    "tags": []
   },
   "outputs": [],
   "source": [
    "train = pd.read_csv('/kaggle/input/sackx-used-cars/train.csv')\n",
    "test  = pd.read_csv('/kaggle/input/sackx-used-cars/test.csv')"
   ]
  },
  {
   "cell_type": "code",
   "execution_count": 3,
   "id": "28be910a",
   "metadata": {
    "execution": {
     "iopub.execute_input": "2024-06-01T03:22:06.374873Z",
     "iopub.status.busy": "2024-06-01T03:22:06.374502Z",
     "iopub.status.idle": "2024-06-01T03:22:06.473328Z",
     "shell.execute_reply": "2024-06-01T03:22:06.471887Z"
    },
    "papermill": {
     "duration": 0.111956,
     "end_time": "2024-06-01T03:22:06.475904",
     "exception": false,
     "start_time": "2024-06-01T03:22:06.363948",
     "status": "completed"
    },
    "tags": []
   },
   "outputs": [
    {
     "name": "stdout",
     "output_type": "stream",
     "text": [
      "(54273, 13)\n",
      "(54371, 13)\n"
     ]
    }
   ],
   "source": [
    "# Count the occurrences\n",
    "print(train.shape)\n",
    "counts = train['brand'].value_counts()\n",
    "\n",
    "# Find categories with fewer than 5 occurrences\n",
    "small_categories = counts[counts < 5].index\n",
    "\n",
    "# Replicate these categories\n",
    "replicated_rows = []\n",
    "for category in small_categories:\n",
    "    rows = train[train['brand'] == category]\n",
    "    num_repeats = 20 // len(rows)  # Number of times to replicate to reach around 20\n",
    "    replicated_rows.append(pd.concat([rows]*num_repeats, ignore_index=True))\n",
    "\n",
    "# If there are any replicated rows, concatenate them with the original DataFrame\n",
    "if replicated_rows:\n",
    "    replicated_df = pd.concat(replicated_rows, ignore_index=True)\n",
    "    train = pd.concat([train, replicated_df], ignore_index=True)\n",
    "print(train.shape)"
   ]
  },
  {
   "cell_type": "code",
   "execution_count": 4,
   "id": "96f18bc3",
   "metadata": {
    "execution": {
     "iopub.execute_input": "2024-06-01T03:22:06.496250Z",
     "iopub.status.busy": "2024-06-01T03:22:06.495484Z",
     "iopub.status.idle": "2024-06-01T03:22:06.520748Z",
     "shell.execute_reply": "2024-06-01T03:22:06.519721Z"
    },
    "papermill": {
     "duration": 0.038383,
     "end_time": "2024-06-01T03:22:06.523560",
     "exception": false,
     "start_time": "2024-06-01T03:22:06.485177",
     "status": "completed"
    },
    "tags": []
   },
   "outputs": [],
   "source": [
    "len(train.loc[train['price']<100000]) / len(train)\n",
    "train=train.loc[train['price']<100000]"
   ]
  },
  {
   "cell_type": "code",
   "execution_count": null,
   "id": "5d2ae674",
   "metadata": {
    "papermill": {
     "duration": 0.00883,
     "end_time": "2024-06-01T03:22:06.541518",
     "exception": false,
     "start_time": "2024-06-01T03:22:06.532688",
     "status": "completed"
    },
    "tags": []
   },
   "outputs": [],
   "source": []
  },
  {
   "cell_type": "code",
   "execution_count": 5,
   "id": "b17e989c",
   "metadata": {
    "execution": {
     "iopub.execute_input": "2024-06-01T03:22:06.561921Z",
     "iopub.status.busy": "2024-06-01T03:22:06.561051Z",
     "iopub.status.idle": "2024-06-01T03:22:07.759105Z",
     "shell.execute_reply": "2024-06-01T03:22:07.757885Z"
    },
    "papermill": {
     "duration": 1.211481,
     "end_time": "2024-06-01T03:22:07.762027",
     "exception": false,
     "start_time": "2024-06-01T03:22:06.550546",
     "status": "completed"
    },
    "tags": []
   },
   "outputs": [],
   "source": [
    "from sklearn.base import BaseEstimator, TransformerMixin\n",
    "from sklearn.compose import ColumnTransformer\n",
    "from sklearn.pipeline import Pipeline\n",
    "from sklearn.preprocessing import FunctionTransformer, OneHotEncoder\n",
    "class EngineTransformer(BaseEstimator, TransformerMixin):\n",
    "    def __init__(self):\n",
    "        pass\n",
    "    \n",
    "    def fit(self, X, y=None):\n",
    "        self.cc = 'engine'\n",
    "        hp_pattern = r'(\\d+(\\.\\d+)?)\\s*[hH][pP]'\n",
    "        liter_pattern = r'(\\d+(\\.\\d+)?)\\s*[lL](iter)?'\n",
    "        cylinder_pattern = r'(?:(?:Straight\\s*)?(\\d+)|V(\\d+))\\s*Cylinder'\n",
    "        \n",
    "        hp = X[self.cc].str.extract(hp_pattern, expand=False)[0].astype(np.float64)\n",
    "        liter = X[self.cc].str.extract(liter_pattern, expand=False)[0].astype(np.float64)\n",
    "        cylinders = X[self.cc].str.extract(cylinder_pattern, expand=False).bfill(axis=1).iloc[:, 0].astype(np.float64)\n",
    "        \n",
    "        self.h=hp.mode()[0]\n",
    "        self.l=liter.mode()[0]\n",
    "        self.c=cylinders.mode()[0]\n",
    "        \n",
    "        print(f\"fitted Engine: {self.h} {self.l} {self.c}\")\n",
    "        return self\n",
    "    \n",
    "    def transform(self, X):\n",
    "        hp_pattern = r'(\\d+(\\.\\d+)?)\\s*[hH][pP]'\n",
    "        liter_pattern = r'(\\d+(\\.\\d+)?)\\s*[lL](iter)?'\n",
    "        cylinder_pattern = r'(?:(?:Straight\\s*)?(\\d+)|V(\\d+))\\s*Cylinder'\n",
    "        \n",
    "        hp = X[self.cc].str.extract(hp_pattern, expand=False)[0].astype(np.float64)\n",
    "        hp = hp.fillna(self.h).astype(np.float64)\n",
    "        \n",
    "        liter = X[self.cc].str.extract(liter_pattern, expand=False)[0].astype(np.float64)\n",
    "        liter = liter.fillna(self.l).astype(np.float64)\n",
    "        \n",
    "        cylinders = X[self.cc].str.extract(cylinder_pattern, expand=False).bfill(axis=1).iloc[:, 0].astype(np.float64)\n",
    "        cylinders = cylinders.fillna(self.c).astype(np.float64)\n",
    "\n",
    "        # Create a DataFrame\n",
    "        df = pd.DataFrame({\n",
    "            'hp': hp,\n",
    "            'liter': liter,\n",
    "            'cylinders': cylinders\n",
    "        })\n",
    "        print(f\"transformed Engine: {self.h} {self.l} {self.c}\")\n",
    "        return df\n",
    "    \n",
    "    def get_feature_names_out(self, names=None):\n",
    "        return ['hp', 'liter', 'cylinders']\n",
    "    \n",
    "ps,pa=None,None\n",
    "class TransmissionTransformer(BaseEstimator, TransformerMixin):\n",
    "    def __init__(self, column_name='transmission'):\n",
    "        self.column_name = column_name  # Allows flexibility on column name\n",
    "#         self.speed_mode = None\n",
    "#         self.automatic_mode = None\n",
    "        \n",
    "    def fit(self, X, y=None):\n",
    "        if self.column_name not in X.columns:\n",
    "            raise ValueError(f\"{self.column_name} is not in the DataFrame\")\n",
    "        \n",
    "        # Regular expressions to extract features\n",
    "        speed_pattern = r'(\\d+)-?[Ss]peed'\n",
    "        automatic_pattern = r'A/T|Automatic|CVT|a/t|A / T|a / t'\n",
    "\n",
    "        # Extracting speed and handling missing values\n",
    "        speed = X[self.column_name].str.extract(speed_pattern, expand=False)\n",
    "        self.speed_mode = speed.mode()[0]\n",
    "#         ps = self.speed_mode\n",
    "\n",
    "        # Detecting automatic transmissions and handling missing values\n",
    "        is_automatic = X[self.column_name].str.contains(automatic_pattern, case=False, na=False)\n",
    "        is_automatic = is_automatic.astype(float)  # Direct conversion to float\n",
    "        self.automatic_mode = is_automatic.mode()[0]\n",
    "#         pa = self.automatic_mode\n",
    "        print(f\"fitted Transmission: {self.speed_mode} {self.automatic_mode}\")\n",
    "        return self\n",
    "    \n",
    "    def transform(self, X):\n",
    "        if self.column_name not in X.columns:\n",
    "            raise ValueError(f\"{self.column_name} is not in the DataFrame\")\n",
    "\n",
    "        # Extracting speed\n",
    "        speed_pattern = r'(\\d+)-?[Ss]peed'\n",
    "        speed = X[self.column_name].str.extract(speed_pattern, expand=False)\n",
    "        print(ps)\n",
    "        speed = speed.fillna(self.speed_mode).astype(np.float64)\n",
    "\n",
    "        # Detecting automatic transmissions\n",
    "        automatic_pattern = r'A/T|Automatic|CVT|a/t|A / T|a / t'\n",
    "        is_automatic = X[self.column_name].str.contains(automatic_pattern, case=False, na=False)\n",
    "        is_automatic = is_automatic.fillna(self.automatic_mode).astype(float)\n",
    "\n",
    "        # Creating a DataFrame from extracted features\n",
    "        df = pd.DataFrame({\n",
    "            'speed': speed,\n",
    "            'automatic': is_automatic\n",
    "        })\n",
    "        print(f\"transformed Transmission: {self.speed_mode} {self.automatic_mode}\")\n",
    "        return df\n",
    "    \n",
    "    def get_feature_names_out(self, names=None):\n",
    "        return ['speed', 'automatic']\n",
    "    \n",
    "    \n",
    "    \n",
    "# class ArrayToDataFrameTransformer(BaseEstimator, TransformerMixin):\n",
    "#     def __init__(self, column_names):\n",
    "#         self.column_names = column_names\n",
    "    \n",
    "#     def fit(self, X, y=None):\n",
    "#         return self\n",
    "\n",
    "#     def transform(self, X):\n",
    "#         return pd.DataFrame(X, columns=self.column_names)\n",
    "\n",
    "# # Example usage within the pipeline\n",
    "# column_names = ['brand_encoded', 'fuel_type_encoded', 'hp', 'liter', 'cylinders', \n",
    "#                 'speed', 'automatic', 'age', 'clean_title', 'accident', 'is_automatic',\n",
    "#                 'milage', 'model', 'id'] "
   ]
  },
  {
   "cell_type": "code",
   "execution_count": 6,
   "id": "cbbb7beb",
   "metadata": {
    "execution": {
     "iopub.execute_input": "2024-06-01T03:22:07.782529Z",
     "iopub.status.busy": "2024-06-01T03:22:07.782137Z",
     "iopub.status.idle": "2024-06-01T03:22:07.875976Z",
     "shell.execute_reply": "2024-06-01T03:22:07.874890Z"
    },
    "papermill": {
     "duration": 0.107171,
     "end_time": "2024-06-01T03:22:07.878800",
     "exception": false,
     "start_time": "2024-06-01T03:22:07.771629",
     "status": "completed"
    },
    "tags": []
   },
   "outputs": [],
   "source": [
    "from sklearn.model_selection import train_test_split"
   ]
  },
  {
   "cell_type": "code",
   "execution_count": 7,
   "id": "22198b6c",
   "metadata": {
    "execution": {
     "iopub.execute_input": "2024-06-01T03:22:07.899170Z",
     "iopub.status.busy": "2024-06-01T03:22:07.898739Z",
     "iopub.status.idle": "2024-06-01T03:22:07.946260Z",
     "shell.execute_reply": "2024-06-01T03:22:07.945080Z"
    },
    "papermill": {
     "duration": 0.061165,
     "end_time": "2024-06-01T03:22:07.949174",
     "exception": false,
     "start_time": "2024-06-01T03:22:07.888009",
     "status": "completed"
    },
    "tags": []
   },
   "outputs": [],
   "source": [
    "x,X, y,Y = train_test_split(train.drop(columns=['price']), train[['price']], train_size=0.8)"
   ]
  },
  {
   "cell_type": "code",
   "execution_count": 8,
   "id": "75e35d25",
   "metadata": {
    "execution": {
     "iopub.execute_input": "2024-06-01T03:22:07.969777Z",
     "iopub.status.busy": "2024-06-01T03:22:07.969383Z",
     "iopub.status.idle": "2024-06-01T03:22:07.978328Z",
     "shell.execute_reply": "2024-06-01T03:22:07.977102Z"
    },
    "papermill": {
     "duration": 0.022003,
     "end_time": "2024-06-01T03:22:07.980820",
     "exception": false,
     "start_time": "2024-06-01T03:22:07.958817",
     "status": "completed"
    },
    "tags": []
   },
   "outputs": [
    {
     "data": {
      "text/plain": [
       "((41696, 12),\n",
       " Index(['id', 'brand', 'model', 'model_year', 'milage', 'fuel_type', 'engine',\n",
       "        'transmission', 'ext_col', 'int_col', 'accident', 'clean_title'],\n",
       "       dtype='object'))"
      ]
     },
     "execution_count": 8,
     "metadata": {},
     "output_type": "execute_result"
    }
   ],
   "source": [
    "x.shape,x.columns"
   ]
  },
  {
   "cell_type": "code",
   "execution_count": 9,
   "id": "f9b9533d",
   "metadata": {
    "execution": {
     "iopub.execute_input": "2024-06-01T03:22:08.001851Z",
     "iopub.status.busy": "2024-06-01T03:22:08.001018Z",
     "iopub.status.idle": "2024-06-01T03:22:08.008140Z",
     "shell.execute_reply": "2024-06-01T03:22:08.007053Z"
    },
    "papermill": {
     "duration": 0.020279,
     "end_time": "2024-06-01T03:22:08.010791",
     "exception": false,
     "start_time": "2024-06-01T03:22:07.990512",
     "status": "completed"
    },
    "tags": []
   },
   "outputs": [
    {
     "data": {
      "text/plain": [
       "((41696, 1), Index(['price'], dtype='object'))"
      ]
     },
     "execution_count": 9,
     "metadata": {},
     "output_type": "execute_result"
    }
   ],
   "source": [
    "y.shape,y.columns"
   ]
  },
  {
   "cell_type": "code",
   "execution_count": 10,
   "id": "af161383",
   "metadata": {
    "execution": {
     "iopub.execute_input": "2024-06-01T03:22:08.031916Z",
     "iopub.status.busy": "2024-06-01T03:22:08.031065Z",
     "iopub.status.idle": "2024-06-01T03:22:08.036203Z",
     "shell.execute_reply": "2024-06-01T03:22:08.035083Z"
    },
    "papermill": {
     "duration": 0.018053,
     "end_time": "2024-06-01T03:22:08.038356",
     "exception": false,
     "start_time": "2024-06-01T03:22:08.020303",
     "status": "completed"
    },
    "tags": []
   },
   "outputs": [],
   "source": [
    "et,tt =EngineTransformer(), TransmissionTransformer()"
   ]
  },
  {
   "cell_type": "code",
   "execution_count": 11,
   "id": "e91a52d1",
   "metadata": {
    "execution": {
     "iopub.execute_input": "2024-06-01T03:22:08.059389Z",
     "iopub.status.busy": "2024-06-01T03:22:08.059007Z",
     "iopub.status.idle": "2024-06-01T03:22:10.112298Z",
     "shell.execute_reply": "2024-06-01T03:22:10.111136Z"
    },
    "papermill": {
     "duration": 2.067031,
     "end_time": "2024-06-01T03:22:10.114905",
     "exception": false,
     "start_time": "2024-06-01T03:22:08.047874",
     "status": "completed"
    },
    "tags": []
   },
   "outputs": [
    {
     "name": "stdout",
     "output_type": "stream",
     "text": [
      "Index(['id', 'brand', 'model', 'model_year', 'milage', 'fuel_type', 'engine',\n",
      "       'transmission', 'ext_col', 'int_col', 'accident', 'clean_title'],\n",
      "      dtype='object')\n",
      "fitted Engine: 300.0 3.0 6.0\n",
      "transformed Engine: 300.0 3.0 6.0\n",
      "fitted Transmission: 6 1.0\n",
      "None\n",
      "transformed Transmission: 6 1.0\n"
     ]
    },
    {
     "data": {
      "text/plain": [
       "(41696, 18)"
      ]
     },
     "execution_count": 11,
     "metadata": {},
     "output_type": "execute_result"
    }
   ],
   "source": [
    "print(x.columns)\n",
    "\n",
    "x=x.drop(columns=['id'])\n",
    "x['age'] = 2024-x['model_year']\n",
    "\n",
    "x=pd.concat([x,et.fit_transform(x),tt.fit_transform(x)], axis=1)\n",
    "x['feat1']=x['speed']*x['hp']\n",
    "x.columns\n",
    "x.shape"
   ]
  },
  {
   "cell_type": "code",
   "execution_count": 12,
   "id": "bd33fe53",
   "metadata": {
    "execution": {
     "iopub.execute_input": "2024-06-01T03:22:10.137877Z",
     "iopub.status.busy": "2024-06-01T03:22:10.137345Z",
     "iopub.status.idle": "2024-06-01T03:22:10.150169Z",
     "shell.execute_reply": "2024-06-01T03:22:10.149172Z"
    },
    "papermill": {
     "duration": 0.026809,
     "end_time": "2024-06-01T03:22:10.152950",
     "exception": false,
     "start_time": "2024-06-01T03:22:10.126141",
     "status": "completed"
    },
    "tags": []
   },
   "outputs": [],
   "source": [
    "ly = np.log(y)\n",
    "xn = x.select_dtypes(include=[np.number])\n",
    "xc = x[[col for col in x.columns if col not in xn.columns]]"
   ]
  },
  {
   "cell_type": "code",
   "execution_count": 13,
   "id": "4da89c29",
   "metadata": {
    "execution": {
     "iopub.execute_input": "2024-06-01T03:22:10.177344Z",
     "iopub.status.busy": "2024-06-01T03:22:10.176880Z",
     "iopub.status.idle": "2024-06-01T03:22:10.194505Z",
     "shell.execute_reply": "2024-06-01T03:22:10.193311Z"
    },
    "papermill": {
     "duration": 0.031531,
     "end_time": "2024-06-01T03:22:10.197094",
     "exception": false,
     "start_time": "2024-06-01T03:22:10.165563",
     "status": "completed"
    },
    "tags": []
   },
   "outputs": [
    {
     "data": {
      "text/html": [
       "<div>\n",
       "<style scoped>\n",
       "    .dataframe tbody tr th:only-of-type {\n",
       "        vertical-align: middle;\n",
       "    }\n",
       "\n",
       "    .dataframe tbody tr th {\n",
       "        vertical-align: top;\n",
       "    }\n",
       "\n",
       "    .dataframe thead th {\n",
       "        text-align: right;\n",
       "    }\n",
       "</style>\n",
       "<table border=\"1\" class=\"dataframe\">\n",
       "  <thead>\n",
       "    <tr style=\"text-align: right;\">\n",
       "      <th></th>\n",
       "      <th>price</th>\n",
       "    </tr>\n",
       "  </thead>\n",
       "  <tbody>\n",
       "    <tr>\n",
       "      <th>20845</th>\n",
       "      <td>10.558414</td>\n",
       "    </tr>\n",
       "    <tr>\n",
       "      <th>31503</th>\n",
       "      <td>10.477288</td>\n",
       "    </tr>\n",
       "    <tr>\n",
       "      <th>38709</th>\n",
       "      <td>10.341710</td>\n",
       "    </tr>\n",
       "    <tr>\n",
       "      <th>32718</th>\n",
       "      <td>10.736397</td>\n",
       "    </tr>\n",
       "    <tr>\n",
       "      <th>12261</th>\n",
       "      <td>10.184900</td>\n",
       "    </tr>\n",
       "  </tbody>\n",
       "</table>\n",
       "</div>"
      ],
      "text/plain": [
       "           price\n",
       "20845  10.558414\n",
       "31503  10.477288\n",
       "38709  10.341710\n",
       "32718  10.736397\n",
       "12261  10.184900"
      ]
     },
     "execution_count": 13,
     "metadata": {},
     "output_type": "execute_result"
    }
   ],
   "source": [
    "bm=xn.copy()\n",
    "bm['logprice']=ly\n",
    "ly[:5]"
   ]
  },
  {
   "cell_type": "code",
   "execution_count": 14,
   "id": "99851e30",
   "metadata": {
    "execution": {
     "iopub.execute_input": "2024-06-01T03:22:10.219854Z",
     "iopub.status.busy": "2024-06-01T03:22:10.218964Z",
     "iopub.status.idle": "2024-06-01T03:22:10.246511Z",
     "shell.execute_reply": "2024-06-01T03:22:10.245334Z"
    },
    "papermill": {
     "duration": 0.041877,
     "end_time": "2024-06-01T03:22:10.249118",
     "exception": false,
     "start_time": "2024-06-01T03:22:10.207241",
     "status": "completed"
    },
    "tags": []
   },
   "outputs": [
    {
     "data": {
      "text/plain": [
       "age          -0.687385\n",
       "milage       -0.686776\n",
       "automatic    -0.027235\n",
       "liter         0.183506\n",
       "cylinders     0.211985\n",
       "speed         0.395991\n",
       "hp            0.520956\n",
       "feat1         0.573728\n",
       "model_year    0.687385\n",
       "logprice      1.000000\n",
       "Name: logprice, dtype: float64"
      ]
     },
     "execution_count": 14,
     "metadata": {},
     "output_type": "execute_result"
    }
   ],
   "source": [
    "bm.corr()['logprice'].sort_values()"
   ]
  },
  {
   "cell_type": "code",
   "execution_count": 15,
   "id": "079aea3e",
   "metadata": {
    "execution": {
     "iopub.execute_input": "2024-06-01T03:22:10.273385Z",
     "iopub.status.busy": "2024-06-01T03:22:10.272556Z",
     "iopub.status.idle": "2024-06-01T03:22:10.288906Z",
     "shell.execute_reply": "2024-06-01T03:22:10.287601Z"
    },
    "papermill": {
     "duration": 0.030997,
     "end_time": "2024-06-01T03:22:10.291497",
     "exception": false,
     "start_time": "2024-06-01T03:22:10.260500",
     "status": "completed"
    },
    "tags": []
   },
   "outputs": [
    {
     "data": {
      "text/plain": [
       "age        -0.687385\n",
       "milage     -0.686776\n",
       "hp          0.520956\n",
       "feat1       0.573728\n",
       "logprice    1.000000\n",
       "Name: logprice, dtype: float64"
      ]
     },
     "execution_count": 15,
     "metadata": {},
     "output_type": "execute_result"
    }
   ],
   "source": [
    "imp=['milage', 'age','feat1','hp']\n",
    "impp=['milage', 'age','feat1','hp','logprice']\n",
    "bm[impp].corr()['logprice'].sort_values()"
   ]
  },
  {
   "cell_type": "code",
   "execution_count": 16,
   "id": "3d66d35e",
   "metadata": {
    "execution": {
     "iopub.execute_input": "2024-06-01T03:22:10.314487Z",
     "iopub.status.busy": "2024-06-01T03:22:10.314101Z",
     "iopub.status.idle": "2024-06-01T03:22:10.410224Z",
     "shell.execute_reply": "2024-06-01T03:22:10.409186Z"
    },
    "papermill": {
     "duration": 0.110948,
     "end_time": "2024-06-01T03:22:10.412953",
     "exception": false,
     "start_time": "2024-06-01T03:22:10.302005",
     "status": "completed"
    },
    "tags": []
   },
   "outputs": [],
   "source": [
    "from sklearn.linear_model import LinearRegression"
   ]
  },
  {
   "cell_type": "code",
   "execution_count": 17,
   "id": "a6cf993f",
   "metadata": {
    "execution": {
     "iopub.execute_input": "2024-06-01T03:22:10.436323Z",
     "iopub.status.busy": "2024-06-01T03:22:10.435889Z",
     "iopub.status.idle": "2024-06-01T03:22:10.480511Z",
     "shell.execute_reply": "2024-06-01T03:22:10.479307Z"
    },
    "papermill": {
     "duration": 0.059395,
     "end_time": "2024-06-01T03:22:10.483175",
     "exception": false,
     "start_time": "2024-06-01T03:22:10.423780",
     "status": "completed"
    },
    "tags": []
   },
   "outputs": [
    {
     "data": {
      "text/html": [
       "<style>#sk-container-id-1 {color: black;background-color: white;}#sk-container-id-1 pre{padding: 0;}#sk-container-id-1 div.sk-toggleable {background-color: white;}#sk-container-id-1 label.sk-toggleable__label {cursor: pointer;display: block;width: 100%;margin-bottom: 0;padding: 0.3em;box-sizing: border-box;text-align: center;}#sk-container-id-1 label.sk-toggleable__label-arrow:before {content: \"▸\";float: left;margin-right: 0.25em;color: #696969;}#sk-container-id-1 label.sk-toggleable__label-arrow:hover:before {color: black;}#sk-container-id-1 div.sk-estimator:hover label.sk-toggleable__label-arrow:before {color: black;}#sk-container-id-1 div.sk-toggleable__content {max-height: 0;max-width: 0;overflow: hidden;text-align: left;background-color: #f0f8ff;}#sk-container-id-1 div.sk-toggleable__content pre {margin: 0.2em;color: black;border-radius: 0.25em;background-color: #f0f8ff;}#sk-container-id-1 input.sk-toggleable__control:checked~div.sk-toggleable__content {max-height: 200px;max-width: 100%;overflow: auto;}#sk-container-id-1 input.sk-toggleable__control:checked~label.sk-toggleable__label-arrow:before {content: \"▾\";}#sk-container-id-1 div.sk-estimator input.sk-toggleable__control:checked~label.sk-toggleable__label {background-color: #d4ebff;}#sk-container-id-1 div.sk-label input.sk-toggleable__control:checked~label.sk-toggleable__label {background-color: #d4ebff;}#sk-container-id-1 input.sk-hidden--visually {border: 0;clip: rect(1px 1px 1px 1px);clip: rect(1px, 1px, 1px, 1px);height: 1px;margin: -1px;overflow: hidden;padding: 0;position: absolute;width: 1px;}#sk-container-id-1 div.sk-estimator {font-family: monospace;background-color: #f0f8ff;border: 1px dotted black;border-radius: 0.25em;box-sizing: border-box;margin-bottom: 0.5em;}#sk-container-id-1 div.sk-estimator:hover {background-color: #d4ebff;}#sk-container-id-1 div.sk-parallel-item::after {content: \"\";width: 100%;border-bottom: 1px solid gray;flex-grow: 1;}#sk-container-id-1 div.sk-label:hover label.sk-toggleable__label {background-color: #d4ebff;}#sk-container-id-1 div.sk-serial::before {content: \"\";position: absolute;border-left: 1px solid gray;box-sizing: border-box;top: 0;bottom: 0;left: 50%;z-index: 0;}#sk-container-id-1 div.sk-serial {display: flex;flex-direction: column;align-items: center;background-color: white;padding-right: 0.2em;padding-left: 0.2em;position: relative;}#sk-container-id-1 div.sk-item {position: relative;z-index: 1;}#sk-container-id-1 div.sk-parallel {display: flex;align-items: stretch;justify-content: center;background-color: white;position: relative;}#sk-container-id-1 div.sk-item::before, #sk-container-id-1 div.sk-parallel-item::before {content: \"\";position: absolute;border-left: 1px solid gray;box-sizing: border-box;top: 0;bottom: 0;left: 50%;z-index: -1;}#sk-container-id-1 div.sk-parallel-item {display: flex;flex-direction: column;z-index: 1;position: relative;background-color: white;}#sk-container-id-1 div.sk-parallel-item:first-child::after {align-self: flex-end;width: 50%;}#sk-container-id-1 div.sk-parallel-item:last-child::after {align-self: flex-start;width: 50%;}#sk-container-id-1 div.sk-parallel-item:only-child::after {width: 0;}#sk-container-id-1 div.sk-dashed-wrapped {border: 1px dashed gray;margin: 0 0.4em 0.5em 0.4em;box-sizing: border-box;padding-bottom: 0.4em;background-color: white;}#sk-container-id-1 div.sk-label label {font-family: monospace;font-weight: bold;display: inline-block;line-height: 1.2em;}#sk-container-id-1 div.sk-label-container {text-align: center;}#sk-container-id-1 div.sk-container {/* jupyter's `normalize.less` sets `[hidden] { display: none; }` but bootstrap.min.css set `[hidden] { display: none !important; }` so we also need the `!important` here to be able to override the default hidden behavior on the sphinx rendered scikit-learn.org. See: https://github.com/scikit-learn/scikit-learn/issues/21755 */display: inline-block !important;position: relative;}#sk-container-id-1 div.sk-text-repr-fallback {display: none;}</style><div id=\"sk-container-id-1\" class=\"sk-top-container\"><div class=\"sk-text-repr-fallback\"><pre>LinearRegression()</pre><b>In a Jupyter environment, please rerun this cell to show the HTML representation or trust the notebook. <br />On GitHub, the HTML representation is unable to render, please try loading this page with nbviewer.org.</b></div><div class=\"sk-container\" hidden><div class=\"sk-item\"><div class=\"sk-estimator sk-toggleable\"><input class=\"sk-toggleable__control sk-hidden--visually\" id=\"sk-estimator-id-1\" type=\"checkbox\" checked><label for=\"sk-estimator-id-1\" class=\"sk-toggleable__label sk-toggleable__label-arrow\">LinearRegression</label><div class=\"sk-toggleable__content\"><pre>LinearRegression()</pre></div></div></div></div></div>"
      ],
      "text/plain": [
       "LinearRegression()"
      ]
     },
     "execution_count": 17,
     "metadata": {},
     "output_type": "execute_result"
    }
   ],
   "source": [
    "lr=LinearRegression()\n",
    "lr.fit(xn[imp],ly)"
   ]
  },
  {
   "cell_type": "code",
   "execution_count": 18,
   "id": "65110a9b",
   "metadata": {
    "execution": {
     "iopub.execute_input": "2024-06-01T03:22:10.507300Z",
     "iopub.status.busy": "2024-06-01T03:22:10.506869Z",
     "iopub.status.idle": "2024-06-01T03:22:10.747350Z",
     "shell.execute_reply": "2024-06-01T03:22:10.746098Z"
    },
    "papermill": {
     "duration": 0.255462,
     "end_time": "2024-06-01T03:22:10.749755",
     "exception": false,
     "start_time": "2024-06-01T03:22:10.494293",
     "status": "completed"
    },
    "tags": []
   },
   "outputs": [
    {
     "name": "stdout",
     "output_type": "stream",
     "text": [
      "Index(['id', 'brand', 'model', 'model_year', 'milage', 'fuel_type', 'engine',\n",
      "       'transmission', 'ext_col', 'int_col', 'accident', 'clean_title'],\n",
      "      dtype='object')\n",
      "transformed Engine: 300.0 3.0 6.0\n",
      "None\n",
      "transformed Transmission: 6 1.0\n"
     ]
    },
    {
     "data": {
      "text/plain": [
       "(10424, 18)"
      ]
     },
     "execution_count": 18,
     "metadata": {},
     "output_type": "execute_result"
    }
   ],
   "source": [
    "print(X.columns)\n",
    "# et,tt =EngineTransformer(), TransmissionTransformer()\n",
    "id= X[['id']]\n",
    "X=X.drop(columns=['id'])\n",
    "X['age'] = 2024-X['model_year']\n",
    "X=pd.concat([X,et.transform(X),tt.transform(X)], axis=1)\n",
    "X['feat1']=X['speed']*X['hp']\n",
    "X.columns\n",
    "X.shape"
   ]
  },
  {
   "cell_type": "code",
   "execution_count": 19,
   "id": "4e7298fc",
   "metadata": {
    "execution": {
     "iopub.execute_input": "2024-06-01T03:22:10.773995Z",
     "iopub.status.busy": "2024-06-01T03:22:10.773536Z",
     "iopub.status.idle": "2024-06-01T03:22:10.785350Z",
     "shell.execute_reply": "2024-06-01T03:22:10.783729Z"
    },
    "papermill": {
     "duration": 0.028674,
     "end_time": "2024-06-01T03:22:10.789672",
     "exception": false,
     "start_time": "2024-06-01T03:22:10.760998",
     "status": "completed"
    },
    "tags": []
   },
   "outputs": [],
   "source": [
    "p=lr.predict(X[imp])"
   ]
  },
  {
   "cell_type": "code",
   "execution_count": 20,
   "id": "a2131393",
   "metadata": {
    "execution": {
     "iopub.execute_input": "2024-06-01T03:22:10.840125Z",
     "iopub.status.busy": "2024-06-01T03:22:10.838344Z",
     "iopub.status.idle": "2024-06-01T03:22:10.853969Z",
     "shell.execute_reply": "2024-06-01T03:22:10.851930Z"
    },
    "papermill": {
     "duration": 0.044396,
     "end_time": "2024-06-01T03:22:10.857422",
     "exception": false,
     "start_time": "2024-06-01T03:22:10.813026",
     "status": "completed"
    },
    "tags": []
   },
   "outputs": [
    {
     "name": "stdout",
     "output_type": "stream",
     "text": [
      "14045.499142788094\n"
     ]
    }
   ],
   "source": [
    "from sklearn.metrics import mean_squared_error\n",
    "\n",
    "rms = mean_squared_error(Y[['price']], np.exp(p).reshape(-1,1), squared=False)\n",
    "print(rms)"
   ]
  },
  {
   "cell_type": "code",
   "execution_count": 21,
   "id": "3698e985",
   "metadata": {
    "execution": {
     "iopub.execute_input": "2024-06-01T03:22:10.906394Z",
     "iopub.status.busy": "2024-06-01T03:22:10.905949Z",
     "iopub.status.idle": "2024-06-01T03:22:12.685273Z",
     "shell.execute_reply": "2024-06-01T03:22:12.683992Z"
    },
    "papermill": {
     "duration": 1.806643,
     "end_time": "2024-06-01T03:22:12.687834",
     "exception": false,
     "start_time": "2024-06-01T03:22:10.881191",
     "status": "completed"
    },
    "tags": []
   },
   "outputs": [
    {
     "name": "stdout",
     "output_type": "stream",
     "text": [
      "Index(['id', 'brand', 'model', 'model_year', 'milage', 'fuel_type', 'engine',\n",
      "       'transmission', 'ext_col', 'int_col', 'accident', 'clean_title'],\n",
      "      dtype='object')\n",
      "fitted Engine: 300.0 3.0 6.0\n",
      "transformed Engine: 300.0 3.0 6.0\n",
      "fitted Transmission: 6 1.0\n",
      "None\n",
      "transformed Transmission: 6 1.0\n"
     ]
    },
    {
     "data": {
      "text/plain": [
       "(36183, 18)"
      ]
     },
     "execution_count": 21,
     "metadata": {},
     "output_type": "execute_result"
    }
   ],
   "source": [
    "print(test.columns)\n",
    "id= test[['id']]\n",
    "test=test.drop(columns=['id'])\n",
    "test['age'] = 2024-test['model_year']\n",
    "test=pd.concat([test,et.fit_transform(test),tt.fit_transform(test)], axis=1)\n",
    "test['feat1']=test['speed']*test['hp']\n",
    "test.columns\n",
    "test.shape"
   ]
  },
  {
   "cell_type": "code",
   "execution_count": 22,
   "id": "4cf394a6",
   "metadata": {
    "execution": {
     "iopub.execute_input": "2024-06-01T03:22:12.712994Z",
     "iopub.status.busy": "2024-06-01T03:22:12.712611Z",
     "iopub.status.idle": "2024-06-01T03:22:12.742412Z",
     "shell.execute_reply": "2024-06-01T03:22:12.740888Z"
    },
    "papermill": {
     "duration": 0.04544,
     "end_time": "2024-06-01T03:22:12.744917",
     "exception": false,
     "start_time": "2024-06-01T03:22:12.699477",
     "status": "completed"
    },
    "tags": []
   },
   "outputs": [
    {
     "name": "stdout",
     "output_type": "stream",
     "text": [
      "milage 0\n",
      "age 0\n",
      "feat1 0\n",
      "hp 0\n"
     ]
    }
   ],
   "source": [
    "for c in test[imp].columns:\n",
    "    print(f\"{c} {sum(test[c].isna())}\")"
   ]
  },
  {
   "cell_type": "code",
   "execution_count": 23,
   "id": "91d262ee",
   "metadata": {
    "execution": {
     "iopub.execute_input": "2024-06-01T03:22:12.770453Z",
     "iopub.status.busy": "2024-06-01T03:22:12.770053Z",
     "iopub.status.idle": "2024-06-01T03:22:12.780417Z",
     "shell.execute_reply": "2024-06-01T03:22:12.778650Z"
    },
    "papermill": {
     "duration": 0.028463,
     "end_time": "2024-06-01T03:22:12.785187",
     "exception": false,
     "start_time": "2024-06-01T03:22:12.756724",
     "status": "completed"
    },
    "tags": []
   },
   "outputs": [],
   "source": [
    "p=lr.predict(test[imp])"
   ]
  },
  {
   "cell_type": "code",
   "execution_count": 24,
   "id": "02a79674",
   "metadata": {
    "execution": {
     "iopub.execute_input": "2024-06-01T03:22:12.838109Z",
     "iopub.status.busy": "2024-06-01T03:22:12.837385Z",
     "iopub.status.idle": "2024-06-01T03:22:12.847971Z",
     "shell.execute_reply": "2024-06-01T03:22:12.846461Z"
    },
    "papermill": {
     "duration": 0.042188,
     "end_time": "2024-06-01T03:22:12.852811",
     "exception": false,
     "start_time": "2024-06-01T03:22:12.810623",
     "status": "completed"
    },
    "tags": []
   },
   "outputs": [
    {
     "data": {
      "text/plain": [
       "(36183, 1)"
      ]
     },
     "execution_count": 24,
     "metadata": {},
     "output_type": "execute_result"
    }
   ],
   "source": [
    "p.shape"
   ]
  },
  {
   "cell_type": "code",
   "execution_count": 25,
   "id": "7c943ec3",
   "metadata": {
    "execution": {
     "iopub.execute_input": "2024-06-01T03:22:12.902476Z",
     "iopub.status.busy": "2024-06-01T03:22:12.902027Z",
     "iopub.status.idle": "2024-06-01T03:22:13.028515Z",
     "shell.execute_reply": "2024-06-01T03:22:13.027446Z"
    },
    "papermill": {
     "duration": 0.153165,
     "end_time": "2024-06-01T03:22:13.031299",
     "exception": false,
     "start_time": "2024-06-01T03:22:12.878134",
     "status": "completed"
    },
    "tags": []
   },
   "outputs": [],
   "source": [
    "res = pd.DataFrame()\n",
    "res['id'] = id\n",
    "res['price']=np.exp(p)\n",
    "res.to_csv('simple-lr.csv',index=False)"
   ]
  }
 ],
 "metadata": {
  "kaggle": {
   "accelerator": "none",
   "dataSources": [
    {
     "datasetId": 5111852,
     "sourceId": 8554014,
     "sourceType": "datasetVersion"
    }
   ],
   "dockerImageVersionId": 30715,
   "isGpuEnabled": false,
   "isInternetEnabled": true,
   "language": "python",
   "sourceType": "notebook"
  },
  "kernelspec": {
   "display_name": "Python 3",
   "language": "python",
   "name": "python3"
  },
  "language_info": {
   "codemirror_mode": {
    "name": "ipython",
    "version": 3
   },
   "file_extension": ".py",
   "mimetype": "text/x-python",
   "name": "python",
   "nbconvert_exporter": "python",
   "pygments_lexer": "ipython3",
   "version": "3.10.13"
  },
  "papermill": {
   "default_parameters": {},
   "duration": 12.148927,
   "end_time": "2024-06-01T03:22:13.664711",
   "environment_variables": {},
   "exception": null,
   "input_path": "__notebook__.ipynb",
   "output_path": "__notebook__.ipynb",
   "parameters": {},
   "start_time": "2024-06-01T03:22:01.515784",
   "version": "2.5.0"
  }
 },
 "nbformat": 4,
 "nbformat_minor": 5
}
